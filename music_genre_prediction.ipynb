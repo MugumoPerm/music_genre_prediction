{
 "cells": [
  {
   "cell_type": "code",
   "execution_count": 122,
   "id": "84ad9489",
   "metadata": {},
   "outputs": [
    {
     "data": {
      "text/plain": [
       "1.0"
      ]
     },
     "execution_count": 122,
     "metadata": {},
     "output_type": "execute_result"
    }
   ],
   "source": [
    "#import necessary libraries\n",
    "import pandas as pd\n",
    "from sklearn.tree import DecisionTreeClassifier\n",
    "from sklearn.model_selection import train_test_split\n",
    "from sklearn.metrics import accuracy_score\n",
    "#read the csv file\n",
    "music_data = pd.read_csv('music.csv')\n",
    "\n",
    "#split the data into two\n",
    "X = music_data.drop(columns=['genre'])\n",
    "y = music_data['genre']\n",
    "\n",
    "#have the data train and data test\n",
    "X_train, X_test,  y_train, y_test = train_test_split(X , y, test_size = 0.5)\n",
    "\n",
    "#create the model\n",
    "model = DecisionTreeClassifier()\n",
    "\n",
    "#train the model\n",
    "model.fit(X_train, y_train)\n",
    "\n",
    "#make prediction using the rest of the data\n",
    "predictions = model.predict(X_test)\n",
    "\n",
    "#compare the predictions of the model\n",
    "score = accuracy_score(y_test, predictions)\n",
    "\n",
    "#make predictions\n",
    "score\n",
    "\n",
    "# predictions"
   ]
  },
  {
   "cell_type": "code",
   "execution_count": null,
   "id": "fcff946c",
   "metadata": {},
   "outputs": [],
   "source": []
  },
  {
   "cell_type": "code",
   "execution_count": null,
   "id": "171e3d92",
   "metadata": {},
   "outputs": [],
   "source": []
  }
 ],
 "metadata": {
  "kernelspec": {
   "display_name": "Python 3 (ipykernel)",
   "language": "python",
   "name": "python3"
  },
  "language_info": {
   "codemirror_mode": {
    "name": "ipython",
    "version": 3
   },
   "file_extension": ".py",
   "mimetype": "text/x-python",
   "name": "python",
   "nbconvert_exporter": "python",
   "pygments_lexer": "ipython3",
   "version": "3.9.12"
  }
 },
 "nbformat": 4,
 "nbformat_minor": 5
}
